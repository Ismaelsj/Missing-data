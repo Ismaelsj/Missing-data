{
 "cells": [
  {
   "cell_type": "markdown",
   "metadata": {},
   "source": [
    "# Fill missing data on a socio-demo user table:"
   ]
  },
  {
   "cell_type": "markdown",
   "metadata": {},
   "source": [
    "### Two methods : "
   ]
  },
  {
   "cell_type": "markdown",
   "metadata": {},
   "source": [
    "The first way will use linear regression to predict years of birth, and logistic regression to predict genders."
   ]
  },
  {
   "cell_type": "markdown",
   "metadata": {},
   "source": [
    "The seconde way will use decision trees with Random Forest to predict missing values."
   ]
  },
  {
   "cell_type": "code",
   "execution_count": 1,
   "metadata": {},
   "outputs": [],
   "source": [
    "%matplotlib inline\n",
    "import numpy as np\n",
    "import pandas as pd\n",
    "import matplotlib.pyplot as plt\n",
    "import matplotlib as mpl\n",
    "from sklearn.model_selection import train_test_split"
   ]
  },
  {
   "cell_type": "markdown",
   "metadata": {},
   "source": [
    "## First method: Linear regression and Logistic regression "
   ]
  },
  {
   "cell_type": "code",
   "execution_count": 2,
   "metadata": {},
   "outputs": [],
   "source": [
    "def map_features(data):\n",
    "    unq = data.unique()\n",
    "    index = np.arange(len(unq))\n",
    "    digit = pd.Series(index, index=unq)\n",
    "    data = data.map(digit)\n",
    "    return data"
   ]
  },
  {
   "cell_type": "code",
   "execution_count": 3,
   "metadata": {},
   "outputs": [],
   "source": [
    "def delete_nan_rows(df, labels):\n",
    "    data = df.values\n",
    "    train = []\n",
    "    n = len(df)\n",
    "    for row in data:\n",
    "        if pd.isna(row[3]) == False:\n",
    "                train.append(list(row))\n",
    "    train = pd.DataFrame(train, columns=labels)\n",
    "    return train"
   ]
  },
  {
   "cell_type": "code",
   "execution_count": 4,
   "metadata": {},
   "outputs": [],
   "source": [
    "def data_augmentation(df, labels, e):\n",
    "    new_df = []\n",
    "    for row in df.values:\n",
    "        a = []\n",
    "        for j in row:\n",
    "            a.append(j**e)\n",
    "        new_df.append(a)\n",
    "    new_df = pd.DataFrame(new_df, columns=labels)\n",
    "    df = df.append(new_df, ignore_index=True)\n",
    "    return df"
   ]
  },
  {
   "cell_type": "code",
   "execution_count": 5,
   "metadata": {},
   "outputs": [],
   "source": [
    "def split_data(df_train):\n",
    "    X = df_train.drop(['gender'], axis=1)\n",
    "    Y = df_train['gender']\n",
    "        # Split training/testing data to 80/20\n",
    "    X_train, X_test, Y_train, Y_test = train_test_split(X, Y, test_size=0.80, random_state=42)\n",
    "    Y_train = Y_train.values.reshape(-1, 1)\n",
    "    Y_test = Y_test.values.reshape(-1, 1)\n",
    "\n",
    "    return X_train, Y_train, X_test, Y_test"
   ]
  },
  {
   "cell_type": "code",
   "execution_count": 6,
   "metadata": {},
   "outputs": [],
   "source": [
    "def gender_features_scaling(x_train, features, x_test=None):\n",
    "    for feature in features:\n",
    "        if isinstance(x_test, pd.DataFrame) == False:\n",
    "            _mean = x_train[feature].mean()\n",
    "            _std = x_train[feature].std()\n",
    "        else:\n",
    "            _mean = pd.concat([x_train[feature], x_test[feature]], ignore_index=True).mean()\n",
    "            _std = pd.concat([x_train[feature], x_test[feature]], ignore_index=True).std()\n",
    "        x_train[feature] = (x_train[feature] - _mean) / _std\n",
    "        if isinstance(x_test, pd.DataFrame):\n",
    "            x_test[feature] = (x_test[feature] - _mean) / _std\n",
    "    return x_train, x_test"
   ]
  },
  {
   "cell_type": "code",
   "execution_count": 7,
   "metadata": {},
   "outputs": [],
   "source": [
    "def gender_theta_scaling(x_train, x_test, theta, features):\n",
    "    i = 1\n",
    "    for feature in features:\n",
    "        _mean = pd.concat([x_train[feature], x_test[feature]], ignore_index=True).mean()\n",
    "        _std = pd.concat([x_train[feature], x_test[feature]], ignore_index=True).std()\n",
    "        theta[i] = (theta[i] - _mean) / _std\n",
    "        i += 1\n",
    "    return theta"
   ]
  },
  {
   "cell_type": "code",
   "execution_count": 8,
   "metadata": {},
   "outputs": [],
   "source": [
    "def Accuracy(theta, x, y):\n",
    "    correct = 0\n",
    "    length = len(x)\n",
    "    prediction = (sigmoid(np.dot(x, theta)))\n",
    "    correct = []\n",
    "    for i in range(length):\n",
    "        if prediction[i] >= 0.5 and y[i] == 1:\n",
    "            correct.append(1)\n",
    "        else:\n",
    "            correct.append(0)\n",
    "    accuracy = (np.sum(correct) / float(length))*100\n",
    "    return accuracy"
   ]
  },
  {
   "cell_type": "code",
   "execution_count": 9,
   "metadata": {},
   "outputs": [],
   "source": [
    "def sigmoid(z):\n",
    "    return 1 / (1 + np.exp(-z))"
   ]
  },
  {
   "cell_type": "code",
   "execution_count": 10,
   "metadata": {},
   "outputs": [],
   "source": [
    "def gradient_descent(m, n, x, y, theta, learning_rate):\n",
    "    tmp = np.zeros(n)\n",
    "    for i in range(m):\n",
    "        tmp += (sigmoid(np.dot(x[i], theta)) - int(y[i])) * x[i]\n",
    "    theta -= (learning_rate / m) * tmp\n",
    "    return theta"
   ]
  },
  {
   "cell_type": "code",
   "execution_count": 11,
   "metadata": {},
   "outputs": [],
   "source": [
    "def cost(x, y, theta):\n",
    "    m = len(x)\n",
    "    _sum = 0\n",
    "    for i in range(m):\n",
    "        _sum += (y[i] * np.log(sigmoid(np.dot(x[i], theta)))) + ((1 - y[i]) * np.log(1 - sigmoid(np.dot(x[i], theta))))\n",
    "    return float(-(1 / float(m)) * _sum)"
   ]
  },
  {
   "cell_type": "code",
   "execution_count": 12,
   "metadata": {},
   "outputs": [],
   "source": [
    "def training(x, y, x_test, y_test, theta, learning_rate, nb_epoch):\n",
    "    m = len(y)\n",
    "    n = len(theta)\n",
    "    hist_train_cost = []\n",
    "    hist_test_cost = []\n",
    "    hist_epoch = []\n",
    "    for _iter in range(nb_epoch):\n",
    "        theta = gradient_descent(m, n, x, y, theta, learning_rate)\n",
    "        hist_train_cost.append(cost(x, y, theta))\n",
    "        hist_test_cost.append(cost(x_test, y_test, theta))\n",
    "        hist_epoch.append(_iter)\n",
    "        print(\"Cost after epoch {0}: {1}\".format(_iter, hist_train_cost[_iter]))\n",
    "    plt.plot(hist_epoch, hist_train_cost)\n",
    "    plt.plot(hist_epoch, hist_test_cost)\n",
    "    plt.show()\n",
    "    return theta"
   ]
  },
  {
   "cell_type": "code",
   "execution_count": 13,
   "metadata": {},
   "outputs": [],
   "source": [
    "def yob_features_scaling(train, features):\n",
    "    x = train.copy()\n",
    "    for feature in features:\n",
    "        _max = x[feature].max()\n",
    "        _min = x[feature].min()\n",
    "        _max = x[feature].max()\n",
    "        _min = x[feature].min()\n",
    "        x[feature] = x[feature] / (_max - _min)\n",
    "    return x"
   ]
  },
  {
   "cell_type": "code",
   "execution_count": 14,
   "metadata": {},
   "outputs": [],
   "source": [
    "def cleaning_yob(df, labels):\n",
    "    train = []\n",
    "    data = df.values\n",
    "    for row in data:\n",
    "        if row[0] != -1:\n",
    "            train.append(list(row))\n",
    "    train = pd.DataFrame(train, columns=labels)\n",
    "    return (train)"
   ]
  },
  {
   "cell_type": "code",
   "execution_count": 15,
   "metadata": {},
   "outputs": [],
   "source": [
    "def normal_equation(x, y, theta):\n",
    "    tmp = np.linalg.inv((np.transpose(x).dot(x))).dot(np.transpose(x)).dot(y)\n",
    "    for i in range(len(tmp)):\n",
    "        theta[i] = tmp[i]\n",
    "    return theta"
   ]
  },
  {
   "cell_type": "code",
   "execution_count": 16,
   "metadata": {},
   "outputs": [],
   "source": [
    "def yob_theta_scaling(theta, x, features):\n",
    "    i = 1\n",
    "    for feature in features:\n",
    "        _max = x[feature].max()\n",
    "        _min = x[feature].min()\n",
    "        theta[i] = theta[i] / (_max - _min)\n",
    "        i += 1\n",
    "    return theta"
   ]
  },
  {
   "cell_type": "markdown",
   "metadata": {},
   "source": [
    "#### Get data."
   ]
  },
  {
   "cell_type": "code",
   "execution_count": 17,
   "metadata": {},
   "outputs": [
    {
     "data": {
      "text/html": [
       "<div>\n",
       "<style scoped>\n",
       "    .dataframe tbody tr th:only-of-type {\n",
       "        vertical-align: middle;\n",
       "    }\n",
       "\n",
       "    .dataframe tbody tr th {\n",
       "        vertical-align: top;\n",
       "    }\n",
       "\n",
       "    .dataframe thead th {\n",
       "        text-align: right;\n",
       "    }\n",
       "</style>\n",
       "<table border=\"1\" class=\"dataframe\">\n",
       "  <thead>\n",
       "    <tr style=\"text-align: right;\">\n",
       "      <th></th>\n",
       "      <th>yob</th>\n",
       "      <th>zipcode</th>\n",
       "    </tr>\n",
       "  </thead>\n",
       "  <tbody>\n",
       "    <tr>\n",
       "      <th>count</th>\n",
       "      <td>2.000000e+06</td>\n",
       "      <td>1.982806e+06</td>\n",
       "    </tr>\n",
       "    <tr>\n",
       "      <th>mean</th>\n",
       "      <td>1.185200e+03</td>\n",
       "      <td>5.568963e+04</td>\n",
       "    </tr>\n",
       "    <tr>\n",
       "      <th>std</th>\n",
       "      <td>9.685971e+02</td>\n",
       "      <td>2.758348e+04</td>\n",
       "    </tr>\n",
       "    <tr>\n",
       "      <th>min</th>\n",
       "      <td>-1.000000e+00</td>\n",
       "      <td>0.000000e+00</td>\n",
       "    </tr>\n",
       "    <tr>\n",
       "      <th>25%</th>\n",
       "      <td>-1.000000e+00</td>\n",
       "      <td>3.329000e+04</td>\n",
       "    </tr>\n",
       "    <tr>\n",
       "      <th>50%</th>\n",
       "      <td>1.961000e+03</td>\n",
       "      <td>5.980000e+04</td>\n",
       "    </tr>\n",
       "    <tr>\n",
       "      <th>75%</th>\n",
       "      <td>1.982000e+03</td>\n",
       "      <td>7.750000e+04</td>\n",
       "    </tr>\n",
       "    <tr>\n",
       "      <th>max</th>\n",
       "      <td>1.999000e+03</td>\n",
       "      <td>9.800000e+04</td>\n",
       "    </tr>\n",
       "  </tbody>\n",
       "</table>\n",
       "</div>"
      ],
      "text/plain": [
       "                yob       zipcode\n",
       "count  2.000000e+06  1.982806e+06\n",
       "mean   1.185200e+03  5.568963e+04\n",
       "std    9.685971e+02  2.758348e+04\n",
       "min   -1.000000e+00  0.000000e+00\n",
       "25%   -1.000000e+00  3.329000e+04\n",
       "50%    1.961000e+03  5.980000e+04\n",
       "75%    1.982000e+03  7.750000e+04\n",
       "max    1.999000e+03  9.800000e+04"
      ]
     },
     "execution_count": 17,
     "metadata": {},
     "output_type": "execute_result"
    }
   ],
   "source": [
    "data = pd.read_csv('./user_exo_2M.csv')\n",
    "data.describe()"
   ]
  },
  {
   "cell_type": "markdown",
   "metadata": {},
   "source": [
    "## Linear regression to train a model to predict Years of birth :"
   ]
  },
  {
   "cell_type": "code",
   "execution_count": 18,
   "metadata": {},
   "outputs": [
    {
     "name": "stdout",
     "output_type": "stream",
     "text": [
      "    yob        domain        firstname  zipcode\n",
      "0  1985   @wanadoo.fr  b08253b305fb5ec  94450.0\n",
      "1  1961       @sfr.fr  7ff135854376850  78580.0\n",
      "2  1977      @free.fr  172522ec1028ab7  62640.0\n",
      "3    -1  @hotmail.com  d3ca5dde60f88db  94100.0\n",
      "4    -1    @gmail.com  bdaae16837dd576  78100.0\n"
     ]
    }
   ],
   "source": [
    "df_yob = data.drop(['gender'], axis=1)\n",
    "print(df_yob.head())"
   ]
  },
  {
   "cell_type": "markdown",
   "metadata": {},
   "source": [
    "#### Selecting features."
   ]
  },
  {
   "cell_type": "code",
   "execution_count": 19,
   "metadata": {},
   "outputs": [
    {
     "name": "stdout",
     "output_type": "stream",
     "text": [
      "['domain', 'firstname', 'zipcode']\n",
      "['yob', 'domain', 'firstname', 'zipcode']\n"
     ]
    }
   ],
   "source": [
    "features = []\n",
    "for feature in df_yob.drop(['yob'], axis=1):\n",
    "    features.append(feature)\n",
    "labels = []\n",
    "for label in df_yob:\n",
    "    labels.append(label)\n",
    "print(features)\n",
    "print(labels)"
   ]
  },
  {
   "cell_type": "markdown",
   "metadata": {},
   "source": [
    "#### Keep the two first number of zipcode."
   ]
  },
  {
   "cell_type": "code",
   "execution_count": 20,
   "metadata": {},
   "outputs": [
    {
     "name": "stdout",
     "output_type": "stream",
     "text": [
      "0    94450.0\n",
      "1    78580.0\n",
      "2    62640.0\n",
      "Name: zipcode, dtype: float64\n",
      "0    94.0\n",
      "1    78.0\n",
      "2    62.0\n",
      "Name: zipcode, dtype: float64\n"
     ]
    }
   ],
   "source": [
    "_zip = []\n",
    "print(df_yob.zipcode.head(3))\n",
    "for i in df_yob.zipcode:\n",
    "    if np.isnan(i) == False and len(str(int(i))) > 2:\n",
    "        _zip.append(int(str(i)[:2]))\n",
    "    else:\n",
    "        _zip.append(np.nan)\n",
    "df_yob.zipcode = _zip\n",
    "print(df_yob.zipcode.head(3))"
   ]
  },
  {
   "cell_type": "markdown",
   "metadata": {},
   "source": [
    "#### Quick view on 'domain' data."
   ]
  },
  {
   "cell_type": "code",
   "execution_count": 21,
   "metadata": {},
   "outputs": [
    {
     "data": {
      "image/png": "[encoded data removed]",
      "text/plain": [
       "<Figure size 432x288 with 1 Axes>"
      ]
     },
     "metadata": {},
     "output_type": "display_data"
    }
   ],
   "source": [
    "mpl.rcParams['agg.path.chunksize'] = 1000\n",
    "a, b = np.unique(df_yob.domain, return_counts=True)\n",
    "plt.bar(a, b)\n",
    "plt.xticks(a, rotation='vertical')\n",
    "plt.show()"
   ]
  },
  {
   "cell_type": "code",
   "execution_count": 22,
   "metadata": {},
   "outputs": [
    {
     "name": "stdout",
     "output_type": "stream",
     "text": [
      "['@gmail', '@hotmail.fr', '@orange.fr', '@yahoo.fr']\n"
     ]
    }
   ],
   "source": [
    "main_domain = ['@gmail', '@hotmail.fr', '@orange.fr', '@yahoo.fr']\n",
    "print(main_domain)\n",
    "gmail = []\n",
    "hotmail = []\n",
    "orange = []\n",
    "yahoo = []\n",
    "for row in df_yob.values:\n",
    "    if row[1] == '@gmail.com' and row[0] != -1:\n",
    "        gmail.append(row[0])\n",
    "    elif row[1] == '@hotmail.fr' and row[0] != -1:\n",
    "        hotmail.append(row[0])\n",
    "    elif row[1] == '@orange.fr' and row[0] != -1:\n",
    "        orange.append(row[0])\n",
    "    elif row[1] == '@yahoo.fr' and row[0] != -1:\n",
    "        yahoo.append(row[0])"
   ]
  },
  {
   "cell_type": "code",
   "execution_count": 23,
   "metadata": {},
   "outputs": [
    {
     "data": {
      "image/png": "[encoded data removed]",
      "text/plain": [
       "<Figure size 432x288 with 1 Axes>"
      ]
     },
     "metadata": {},
     "output_type": "display_data"
    }
   ],
   "source": [
    "a, b = np.unique(gmail, return_counts=True)\n",
    "plt.bar(a, b, width=1)\n",
    "plt.show()"
   ]
  },
  {
   "cell_type": "code",
   "execution_count": 24,
   "metadata": {},
   "outputs": [
    {
     "data": {
      "image/png": "[encoded data removed]",
      "text/plain": [
       "<Figure size 432x288 with 1 Axes>"
      ]
     },
     "metadata": {},
     "output_type": "display_data"
    }
   ],
   "source": [
    "a, index, b = np.unique(hotmail, return_inverse=True, return_counts=True)\n",
    "plt.bar(a, b, width=1)\n",
    "plt.show()"
   ]
  },
  {
   "cell_type": "code",
   "execution_count": 25,
   "metadata": {},
   "outputs": [
    {
     "data": {
      "image/png": "[encoded data removed]",
      "text/plain": [
       "<Figure size 432x288 with 1 Axes>"
      ]
     },
     "metadata": {},
     "output_type": "display_data"
    }
   ],
   "source": [
    "a, b = np.unique(orange, return_counts=True)\n",
    "plt.bar(a, b, width=1)\n",
    "plt.show()"
   ]
  },
  {
   "cell_type": "code",
   "execution_count": 26,
   "metadata": {},
   "outputs": [
    {
     "data": {
      "image/png": "[encoded data removed]",
      "text/plain": [
       "<Figure size 432x288 with 1 Axes>"
      ]
     },
     "metadata": {},
     "output_type": "display_data"
    }
   ],
   "source": [
    "a, b = np.unique(yahoo, return_counts=True)\n",
    "plt.bar(a, b, width=1)\n",
    "plt.show()"
   ]
  },
  {
   "cell_type": "markdown",
   "metadata": {},
   "source": [
    "#### Simplify features by mapping."
   ]
  },
  {
   "cell_type": "code",
   "execution_count": 27,
   "metadata": {},
   "outputs": [
    {
     "name": "stdout",
     "output_type": "stream",
     "text": [
      "    yob  domain  firstname  zipcode\n",
      "0  1985       0          0        0\n",
      "1  1961       1          1        1\n",
      "2  1977       2          2        2\n",
      "3    -1       3          3        0\n",
      "4    -1       4          4        1\n"
     ]
    }
   ],
   "source": [
    "for feature in features:\n",
    "    df_yob[feature] = map_features(df_yob[feature])\n",
    "print(df_yob.head())"
   ]
  },
  {
   "cell_type": "markdown",
   "metadata": {},
   "source": [
    "#### Get mean for zipcode's missing values."
   ]
  },
  {
   "cell_type": "code",
   "execution_count": 28,
   "metadata": {},
   "outputs": [],
   "source": [
    "zip_mean = df_yob['zipcode'].mean()\n",
    "df_yob.zipcode = df_yob['zipcode'].fillna(zip_mean)"
   ]
  },
  {
   "cell_type": "markdown",
   "metadata": {},
   "source": [
    "#### Get rid of '-1' in yob."
   ]
  },
  {
   "cell_type": "code",
   "execution_count": 29,
   "metadata": {},
   "outputs": [],
   "source": [
    "train = cleaning_yob(df_yob, labels)"
   ]
  },
  {
   "cell_type": "markdown",
   "metadata": {},
   "source": [
    "#### Get DataFrame to fil with predictions."
   ]
  },
  {
   "cell_type": "code",
   "execution_count": 30,
   "metadata": {},
   "outputs": [],
   "source": [
    "yob_to_fil = df_yob.copy()"
   ]
  },
  {
   "cell_type": "markdown",
   "metadata": {},
   "source": [
    "#### Fit bias to train set and DataFrame."
   ]
  },
  {
   "cell_type": "code",
   "execution_count": 31,
   "metadata": {},
   "outputs": [
    {
     "name": "stdout",
     "output_type": "stream",
     "text": [
      "   Bias   yob  domain  firstname  zipcode\n",
      "0   1.0  1985       0          0        0\n",
      "1   1.0  1961       1          1        1\n",
      "2   1.0  1977       2          2        2\n",
      "3   1.0  1975       0          5        3\n",
      "4   1.0  1974       4          6        4\n",
      "    yob  Bias  domain  firstname  zipcode\n",
      "0  1985   1.0       0          0        0\n",
      "1  1961   1.0       1          1        1\n",
      "2  1977   1.0       2          2        2\n",
      "3    -1   1.0       3          3        0\n",
      "4    -1   1.0       4          4        1\n"
     ]
    }
   ],
   "source": [
    "Bias = np.ones(train.values.shape[0])\n",
    "train.insert(loc=0, column='Bias', value=Bias)\n",
    "Bias = np.ones(yob_to_fil.values.shape[0])\n",
    "yob_to_fil.insert(loc=0, column='Bias', value=Bias)\n",
    "cols = ['yob', 'Bias', 'domain', 'firstname', 'zipcode']\n",
    "yob_to_fil = yob_to_fil[cols]\n",
    "print(train.head())\n",
    "print(yob_to_fil.head())"
   ]
  },
  {
   "cell_type": "markdown",
   "metadata": {},
   "source": [
    "#### Features scaling."
   ]
  },
  {
   "cell_type": "code",
   "execution_count": 32,
   "metadata": {},
   "outputs": [],
   "source": [
    "x = yob_features_scaling(train, features)\n",
    "#yob_to_fil = yob_features_scaling(yob_to_fil, features)"
   ]
  },
  {
   "cell_type": "markdown",
   "metadata": {},
   "source": [
    "#### Get features and outputs to train."
   ]
  },
  {
   "cell_type": "code",
   "execution_count": 33,
   "metadata": {},
   "outputs": [],
   "source": [
    "y = train['yob'].values\n",
    "x = x.drop(['yob'], axis=1).values"
   ]
  },
  {
   "cell_type": "markdown",
   "metadata": {},
   "source": [
    "#### Creating theta / weight."
   ]
  },
  {
   "cell_type": "code",
   "execution_count": 34,
   "metadata": {},
   "outputs": [
    {
     "name": "stdout",
     "output_type": "stream",
     "text": [
      "[[0.]\n",
      " [0.]\n",
      " [0.]\n",
      " [0.]]\n"
     ]
    }
   ],
   "source": [
    "theta_yob = np.zeros((len(features) + 1, 1))\n",
    "print(theta_yob)"
   ]
  },
  {
   "cell_type": "markdown",
   "metadata": {},
   "source": [
    "#### Training theta / weight."
   ]
  },
  {
   "cell_type": "code",
   "execution_count": 35,
   "metadata": {},
   "outputs": [
    {
     "name": "stdout",
     "output_type": "stream",
     "text": [
      "[[ 1.97372915e+03]\n",
      " [ 6.56432881e+00]\n",
      " [ 1.56092001e+01]\n",
      " [-4.48792785e-01]]\n"
     ]
    }
   ],
   "source": [
    "theta_yob = normal_equation(x, y, theta_yob)\n",
    "print(theta_yob)"
   ]
  },
  {
   "cell_type": "markdown",
   "metadata": {},
   "source": [
    "#### Theta scaling."
   ]
  },
  {
   "cell_type": "code",
   "execution_count": 36,
   "metadata": {},
   "outputs": [
    {
     "name": "stdout",
     "output_type": "stream",
     "text": [
      "[[ 1.97372915e+03]\n",
      " [ 1.56293543e-01]\n",
      " [ 9.95421218e-04]\n",
      " [-5.09991801e-03]]\n"
     ]
    }
   ],
   "source": [
    "theta_yob = yob_theta_scaling(theta_yob, df_yob, features)\n",
    "print(theta_yob)"
   ]
  },
  {
   "cell_type": "markdown",
   "metadata": {},
   "source": [
    "#### See what theta predict in the training set."
   ]
  },
  {
   "cell_type": "code",
   "execution_count": 37,
   "metadata": {},
   "outputs": [
    {
     "name": "stdout",
     "output_type": "stream",
     "text": [
      "             0\n",
      "1973   7.1907%\n",
      "1974  36.6139%\n",
      "1975  26.1126%\n",
      "1976   9.8033%\n",
      "1977   6.0465%\n",
      "1978   4.3217%\n",
      "1979   2.7918%\n",
      "1980   1.9672%\n",
      "1981   1.1725%\n",
      "1982   0.8777%\n",
      "1983   0.6783%\n",
      "1984   0.5849%\n",
      "1985    0.496%\n",
      "1986   0.3975%\n",
      "1987   0.3406%\n",
      "1988   0.2749%\n",
      "1989   0.1753%\n",
      "1990     0.07%\n",
      "1991   0.0339%\n",
      "1992   0.0264%\n",
      "1993   0.0181%\n",
      "1994   0.0057%\n",
      "1995   0.0005%\n"
     ]
    }
   ],
   "source": [
    "lst = []\n",
    "#for x in yob_to_fil.values:\n",
    "for x in train.drop(['yob'], axis=1).values:\n",
    "    nb = 0\n",
    "    for i in range(len(theta_yob)):\n",
    "        nb += theta_yob[i] * x[i]\n",
    "    lst.append(int(nb))\n",
    "lst = np.array(lst)\n",
    "u, indices = np.unique(lst, return_counts=True)\n",
    "a = float(len(train.values))\n",
    "\n",
    "Ocu = []\n",
    "Yob = []\n",
    "b = 0\n",
    "for i in indices:\n",
    "    Yob.append(u[b])\n",
    "    Ocu.append(\"{}%\".format(round(((i / a) * 100), 4)))\n",
    "    b += 1\n",
    "yob_ocu = pd.DataFrame(Ocu, Yob)\n",
    "print(yob_ocu)"
   ]
  },
  {
   "cell_type": "markdown",
   "metadata": {},
   "source": [
    "#### Predict missing values in yob."
   ]
  },
  {
   "cell_type": "code",
   "execution_count": 38,
   "metadata": {},
   "outputs": [],
   "source": [
    "yob = []\n",
    "tmp = [] \n",
    "for row in yob_to_fil.values:\n",
    "    nb = 0\n",
    "    if row[0] == -1:\n",
    "        for i in range(len(theta_yob)):\n",
    "            nb += theta_yob[i] * row[i + 1]\n",
    "        yob.append(int(nb))\n",
    "        tmp.append(int(nb))\n",
    "    else:\n",
    "        yob.append(row[0])"
   ]
  },
  {
   "cell_type": "markdown",
   "metadata": {},
   "source": [
    "#### See what theta predict in the data set."
   ]
  },
  {
   "cell_type": "code",
   "execution_count": 39,
   "metadata": {},
   "outputs": [
    {
     "data": {
      "image/png": "[encoded data removed]",
      "text/plain": [
       "<Figure size 432x288 with 1 Axes>"
      ]
     },
     "metadata": {},
     "output_type": "display_data"
    }
   ],
   "source": [
    "u, indices = np.unique(yob, return_counts=True)\n",
    "plt.bar(u[1:], indices[1:], label='Prediction', width=1)\n",
    "u, indices = np.unique(data.yob, return_counts=True)\n",
    "plt.bar(u[1:], indices[1:], label='Original', width=1)\n",
    "plt.legend(bbox_to_anchor=(0., 1.02, 1., .102), loc=3,\n",
    "           ncol=2, mode=\"expand\", borderaxespad=0.)\n",
    "plt.xlabel('Years')\n",
    "plt.ylabel('Occurence')\n",
    "plt.show()"
   ]
  },
  {
   "cell_type": "markdown",
   "metadata": {},
   "source": [
    "## Logistic regression to train a model to predict Genders :"
   ]
  },
  {
   "cell_type": "code",
   "execution_count": 40,
   "metadata": {},
   "outputs": [
    {
     "name": "stdout",
     "output_type": "stream",
     "text": [
      "         domain        firstname  zipcode gender\n",
      "0   @wanadoo.fr  b08253b305fb5ec  94450.0      F\n",
      "1       @sfr.fr  7ff135854376850  78580.0      M\n",
      "2      @free.fr  172522ec1028ab7  62640.0    NaN\n",
      "3  @hotmail.com  d3ca5dde60f88db  94100.0      M\n",
      "4    @gmail.com  bdaae16837dd576  78100.0    NaN\n"
     ]
    }
   ],
   "source": [
    "df_gender = data.drop(['yob'], axis=1)\n",
    "print(df_gender.head())"
   ]
  },
  {
   "cell_type": "markdown",
   "metadata": {},
   "source": [
    "#### Female/male rate."
   ]
  },
  {
   "cell_type": "code",
   "execution_count": 41,
   "metadata": {},
   "outputs": [
    {
     "data": {
      "image/png": "[encoded data removed]",
      "text/plain": [
       "<Figure size 432x288 with 1 Axes>"
      ]
     },
     "metadata": {},
     "output_type": "display_data"
    }
   ],
   "source": [
    "people = np.arange(2)\n",
    "male = 0\n",
    "female = 0\n",
    "for i in data.gender:\n",
    "    if i == 'M':\n",
    "        male += 1\n",
    "    elif i == 'F':\n",
    "        female += 1\n",
    "gender_rate = [female, male]\n",
    "gender_type = ['Female', 'Male']\n",
    "plt.bar(people, gender_rate)\n",
    "plt.xticks(people, gender_type)\n",
    "plt.show()\n",
    "        "
   ]
  },
  {
   "cell_type": "markdown",
   "metadata": {},
   "source": [
    "#### Keep the two first number of zipcode"
   ]
  },
  {
   "cell_type": "code",
   "execution_count": 42,
   "metadata": {},
   "outputs": [
    {
     "name": "stdout",
     "output_type": "stream",
     "text": [
      "         domain        firstname  zipcode gender\n",
      "0   @wanadoo.fr  b08253b305fb5ec     94.0      F\n",
      "1       @sfr.fr  7ff135854376850     78.0      M\n",
      "2      @free.fr  172522ec1028ab7     62.0    NaN\n",
      "3  @hotmail.com  d3ca5dde60f88db     94.0      M\n",
      "4    @gmail.com  bdaae16837dd576     78.0    NaN\n"
     ]
    }
   ],
   "source": [
    "_zip = []\n",
    "for i in df_gender.zipcode:\n",
    "    if np.isnan(i) == False and  len(str(int(i))) > 2:\n",
    "        _zip.append(int(str(i)[:2]))\n",
    "    else:\n",
    "        _zip.append(np.nan)\n",
    "df_gender.zipcode = _zip\n",
    "print(df_gender.head())"
   ]
  },
  {
   "cell_type": "code",
   "execution_count": 43,
   "metadata": {},
   "outputs": [],
   "source": [
    "features = []\n",
    "for feature in df_gender.drop(['gender'], axis=1):\n",
    "    features.append(feature)\n",
    "\n",
    "labels = []\n",
    "for label in df_gender:\n",
    "    labels.append(label)"
   ]
  },
  {
   "cell_type": "markdown",
   "metadata": {},
   "source": [
    "#### Simplify features by mapping"
   ]
  },
  {
   "cell_type": "code",
   "execution_count": 44,
   "metadata": {},
   "outputs": [
    {
     "name": "stdout",
     "output_type": "stream",
     "text": [
      "   domain  firstname  zipcode gender\n",
      "0       0          0        0      F\n",
      "1       1          1        1      M\n",
      "2       2          2        2    NaN\n",
      "3       3          3        0      M\n",
      "4       4          4        1    NaN\n"
     ]
    }
   ],
   "source": [
    "for feature in features:\n",
    "    df_gender[feature] = map_features(df_gender[feature])\n",
    "print(df_gender.head())"
   ]
  },
  {
   "cell_type": "markdown",
   "metadata": {},
   "source": [
    "#### Get DataFrame to fill with predictions."
   ]
  },
  {
   "cell_type": "code",
   "execution_count": 45,
   "metadata": {},
   "outputs": [
    {
     "name": "stdout",
     "output_type": "stream",
     "text": [
      "   domain  firstname  zipcode gender\n",
      "0       0          0        0      F\n",
      "1       1          1        1      M\n",
      "2       2          2        2    NaN\n",
      "3       3          3        0      M\n",
      "4       4          4        1    NaN\n"
     ]
    }
   ],
   "source": [
    "gender_to_fil = df_gender.copy()\n",
    "print(gender_to_fil.head())"
   ]
  },
  {
   "cell_type": "markdown",
   "metadata": {},
   "source": [
    "#### Map gender label"
   ]
  },
  {
   "cell_type": "code",
   "execution_count": 46,
   "metadata": {},
   "outputs": [
    {
     "name": "stdout",
     "output_type": "stream",
     "text": [
      "   domain  firstname  zipcode  gender\n",
      "0       0          0        0       0\n",
      "1       1          1        1       1\n",
      "2       3          3        0       1\n",
      "3       0          5        3       1\n",
      "4       4          6        4       1\n",
      "   domain  firstname  zipcode  gender\n",
      "0       0          0        0     0.0\n",
      "1       1          1        1     1.0\n",
      "2       2          2        2     NaN\n",
      "3       3          3        0     1.0\n",
      "4       4          4        1     NaN\n"
     ]
    }
   ],
   "source": [
    "df_train = delete_nan_rows(df_gender, labels)\n",
    "df_train['gender'] = df_train['gender'].map({'F': 0, 'M': 1}).astype(int)\n",
    "gender_to_fil['gender'] = gender_to_fil['gender'].map({'F': 0, 'M': 1})\n",
    "print(df_train.head())\n",
    "print(gender_to_fil.head())"
   ]
  },
  {
   "cell_type": "markdown",
   "metadata": {},
   "source": [
    "#### Create more revelent data and insert bias"
   ]
  },
  {
   "cell_type": "code",
   "execution_count": 47,
   "metadata": {},
   "outputs": [],
   "source": [
    "df_train = data_augmentation(df_train, labels, 3)"
   ]
  },
  {
   "cell_type": "markdown",
   "metadata": {},
   "source": [
    "#### Fit bias to train set and DataFrame."
   ]
  },
  {
   "cell_type": "code",
   "execution_count": 48,
   "metadata": {},
   "outputs": [
    {
     "name": "stdout",
     "output_type": "stream",
     "text": [
      "   Bias  domain  firstname  zipcode  gender\n",
      "0   1.0       0          0        0       0\n",
      "1   1.0       1          1        1       1\n",
      "2   1.0       3          3        0       1\n",
      "3   1.0       0          5        3       1\n",
      "4   1.0       4          6        4       1\n",
      "   Bias  domain  firstname  zipcode  gender\n",
      "0   1.0       0          0        0     0.0\n",
      "1   1.0       1          1        1     1.0\n",
      "2   1.0       2          2        2     NaN\n",
      "3   1.0       3          3        0     1.0\n",
      "4   1.0       4          4        1     NaN\n"
     ]
    }
   ],
   "source": [
    "Bias = np.ones(df_train.shape[0])\n",
    "df_train.insert(loc=0, column='Bias', value=Bias)\n",
    "Bias = np.ones(gender_to_fil.shape[0])\n",
    "gender_to_fil.insert(loc=0, column='Bias', value=Bias)\n",
    "print(df_train.head())\n",
    "print(gender_to_fil.head())"
   ]
  },
  {
   "cell_type": "markdown",
   "metadata": {},
   "source": [
    "#### Split data to train ans test set and create non scaled copy for accuracy"
   ]
  },
  {
   "cell_type": "code",
   "execution_count": 49,
   "metadata": {},
   "outputs": [
    {
     "name": "stdout",
     "output_type": "stream",
     "text": [
      "         Bias  domain  firstname  zipcode\n",
      "665356    1.0       4        683       72\n",
      "2149914   1.0      64    5177717    68921\n",
      "2146210   1.0      64     287496     9261\n",
      "1445409   1.0    2744     405224   636056\n",
      "1316207   1.0    1331    3241792     1000\n",
      "         Bias  domain  firstname  zipcode\n",
      "665356    1.0       4        683       72\n",
      "2149914   1.0      64    5177717    68921\n",
      "2146210   1.0      64     287496     9261\n",
      "1445409   1.0    2744     405224   636056\n",
      "1316207   1.0    1331    3241792     1000\n",
      "['domain', 'firstname', 'zipcode']\n"
     ]
    }
   ],
   "source": [
    "X_train, Y_train, X_test, Y_test = split_data(df_train)\n",
    "non_scal_train = X_train.copy()\n",
    "non_scal_test = X_test.copy()\n",
    "print(non_scal_train.head())\n",
    "print(X_train.head())\n",
    "print(features)"
   ]
  },
  {
   "cell_type": "markdown",
   "metadata": {},
   "source": [
    "#### Scaling train and test set"
   ]
  },
  {
   "cell_type": "code",
   "execution_count": 50,
   "metadata": {},
   "outputs": [
    {
     "name": "stdout",
     "output_type": "stream",
     "text": [
      "         Bias    domain  firstname   zipcode\n",
      "665356    1.0 -0.213973  -0.136251 -0.409580\n",
      "2149914   1.0 -0.204062  -0.136226  0.314786\n",
      "2146210   1.0 -0.204062  -0.136250 -0.312902\n",
      "1445409   1.0  0.238623  -0.136249  6.281660\n",
      "1316207   1.0  0.005222  -0.136236 -0.399817\n",
      "   Bias    domain  firstname   zipcode  gender\n",
      "0   1.0 -1.124714  -0.515985 -1.407798     0.0\n",
      "1   1.0 -0.986939  -0.515539 -1.362067     1.0\n",
      "2   1.0 -0.849165  -0.515093 -1.316336     NaN\n",
      "3   1.0 -0.711390  -0.514647 -1.407798     1.0\n",
      "4   1.0 -0.573616  -0.514200 -1.362067     NaN\n"
     ]
    }
   ],
   "source": [
    "X_train, X_test = gender_features_scaling(X_train, features, X_test)\n",
    "gender_to_fil, _ = gender_features_scaling(gender_to_fil, features)\n",
    "print(X_train.head())\n",
    "print(gender_to_fil.head())\n",
    "X_train = X_train.values\n",
    "X_test = X_test.values"
   ]
  },
  {
   "cell_type": "markdown",
   "metadata": {},
   "source": [
    "#### Parameters and theta."
   ]
  },
  {
   "cell_type": "code",
   "execution_count": 51,
   "metadata": {},
   "outputs": [],
   "source": [
    "learning_rate = 0.6\n",
    "nb_epoch = 30"
   ]
  },
  {
   "cell_type": "code",
   "execution_count": 52,
   "metadata": {},
   "outputs": [
    {
     "name": "stdout",
     "output_type": "stream",
     "text": [
      "[0. 0. 0. 0.]\n"
     ]
    }
   ],
   "source": [
    "theta_gender = np.zeros(len(features) + 1)\n",
    "print(theta_gender)"
   ]
  },
  {
   "cell_type": "markdown",
   "metadata": {},
   "source": [
    "#### Training theta."
   ]
  },
  {
   "cell_type": "code",
   "execution_count": 53,
   "metadata": {},
   "outputs": [
    {
     "name": "stdout",
     "output_type": "stream",
     "text": [
      "Cost after epoch 0: 0.692713503548\n",
      "Cost after epoch 1: 0.692398607003\n",
      "Cost after epoch 2: 0.692169847454\n",
      "Cost after epoch 3: 0.692003559572\n",
      "Cost after epoch 4: 0.6918825985\n",
      "Cost after epoch 5: 0.691794544174\n",
      "Cost after epoch 6: 0.691730396431\n",
      "Cost after epoch 7: 0.69168362972\n",
      "Cost after epoch 8: 0.691649509448\n",
      "Cost after epoch 9: 0.691624597828\n",
      "Cost after epoch 10: 0.691606396702\n",
      "Cost after epoch 11: 0.69159308927\n",
      "Cost after epoch 12: 0.691583353211\n",
      "Cost after epoch 13: 0.691576225352\n",
      "Cost after epoch 14: 0.691571003596\n",
      "Cost after epoch 15: 0.691567175783\n",
      "Cost after epoch 16: 0.691564368037\n",
      "Cost after epoch 17: 0.691562307243\n",
      "Cost after epoch 18: 0.691560793758\n",
      "Cost after epoch 19: 0.69155968155\n",
      "Cost after epoch 20: 0.691558863732\n",
      "Cost after epoch 21: 0.69155826202\n",
      "Cost after epoch 22: 0.691557819043\n",
      "Cost after epoch 23: 0.691557492731\n",
      "Cost after epoch 24: 0.691557252215\n",
      "Cost after epoch 25: 0.691557074832\n",
      "Cost after epoch 26: 0.691556943933\n",
      "Cost after epoch 27: 0.691556847279\n",
      "Cost after epoch 28: 0.691556775868\n",
      "Cost after epoch 29: 0.691556723078\n"
     ]
    },
    {
     "data": {
      "image/png": "[encoded data removed]",
      "text/plain": [
       "<Figure size 432x288 with 1 Axes>"
      ]
     },
     "metadata": {},
     "output_type": "display_data"
    }
   ],
   "source": [
    "theta_gender = training(X_train, Y_train, X_test, Y_test, theta_gender, learning_rate, nb_epoch)"
   ]
  },
  {
   "cell_type": "markdown",
   "metadata": {},
   "source": [
    "#### Theta scaling."
   ]
  },
  {
   "cell_type": "code",
   "execution_count": 54,
   "metadata": {},
   "outputs": [
    {
     "name": "stdout",
     "output_type": "stream",
     "text": [
      "[ 0.09852302 -0.21462571 -0.1362514  -0.41033807]\n"
     ]
    }
   ],
   "source": [
    "theta_gender = gender_theta_scaling(non_scal_train, non_scal_test, theta_gender, features)\n",
    "print(theta_gender)"
   ]
  },
  {
   "cell_type": "markdown",
   "metadata": {},
   "source": [
    "#### Accuracy."
   ]
  },
  {
   "cell_type": "code",
   "execution_count": 55,
   "metadata": {},
   "outputs": [
    {
     "name": "stdout",
     "output_type": "stream",
     "text": [
      "Train accuracy %: 42.483965039\n",
      "Test accuracy %: 42.3581932498\n"
     ]
    }
   ],
   "source": [
    "print ('Train accuracy %: {}'.format(Accuracy(theta_gender, X_train, Y_train)))\n",
    "print ('Test accuracy %: {}'.format(Accuracy(theta_gender, X_test, Y_test)))"
   ]
  },
  {
   "cell_type": "markdown",
   "metadata": {},
   "source": [
    "#### Female/male rate after predictions."
   ]
  },
  {
   "cell_type": "code",
   "execution_count": 62,
   "metadata": {},
   "outputs": [
    {
     "data": {
      "image/png": "[encoded data removed]",
      "text/plain": [
       "<Figure size 432x288 with 1 Axes>"
      ]
     },
     "metadata": {},
     "output_type": "display_data"
    }
   ],
   "source": [
    "people = np.arange(2)\n",
    "prediction = sigmoid(np.dot(gender_to_fil.drop(['gender'], axis=1), theta_gender))\n",
    "pred = []\n",
    "for i in prediction:\n",
    "    pred.append(int(round(i)))\n",
    "male = 0\n",
    "female = 0\n",
    "for i in pred:\n",
    "    if i == 1:\n",
    "        male += 1\n",
    "    elif i == 0:\n",
    "        female += 1\n",
    "gender_rate = [female, male]\n",
    "gender_type = ['Female', 'Male']\n",
    "plt.bar(people, gender_rate)\n",
    "plt.xticks(people, gender_type)\n",
    "plt.show()"
   ]
  },
  {
   "cell_type": "markdown",
   "metadata": {},
   "source": [
    "# Seconde method: RandomForest."
   ]
  },
  {
   "cell_type": "code",
   "execution_count": 63,
   "metadata": {},
   "outputs": [],
   "source": [
    "from sklearn.ensemble import RandomForestRegressor"
   ]
  },
  {
   "cell_type": "markdown",
   "metadata": {},
   "source": [
    "### Predict Year of birth."
   ]
  },
  {
   "cell_type": "markdown",
   "metadata": {},
   "source": [
    "#### Data cleaning."
   ]
  },
  {
   "cell_type": "code",
   "execution_count": 64,
   "metadata": {},
   "outputs": [
    {
     "name": "stdout",
     "output_type": "stream",
     "text": [
      "    yob        domain        firstname  zipcode\n",
      "0  1985   @wanadoo.fr  b08253b305fb5ec  94450.0\n",
      "1  1961       @sfr.fr  7ff135854376850  78580.0\n",
      "2  1977      @free.fr  172522ec1028ab7  62640.0\n",
      "3    -1  @hotmail.com  d3ca5dde60f88db  94100.0\n",
      "4    -1    @gmail.com  bdaae16837dd576  78100.0\n"
     ]
    }
   ],
   "source": [
    "X_yob = data.drop(['gender'], axis=1).copy()\n",
    "print(X_yob.head())"
   ]
  },
  {
   "cell_type": "code",
   "execution_count": 65,
   "metadata": {},
   "outputs": [
    {
     "name": "stdout",
     "output_type": "stream",
     "text": [
      "    yob        domain        firstname  zipcode\n",
      "0  1985   @wanadoo.fr  b08253b305fb5ec     94.0\n",
      "1  1961       @sfr.fr  7ff135854376850     78.0\n",
      "2  1977      @free.fr  172522ec1028ab7     62.0\n",
      "3    -1  @hotmail.com  d3ca5dde60f88db     94.0\n",
      "4    -1    @gmail.com  bdaae16837dd576     78.0\n"
     ]
    }
   ],
   "source": [
    "_zip = []\n",
    "for i in X_yob.zipcode:\n",
    "    if np.isnan(i) == False and len(str(int(i))) > 2:\n",
    "        _zip.append(int(str(i)[:2]))\n",
    "    else:\n",
    "        _zip.append(np.nan)\n",
    "X_yob.zipcode = _zip\n",
    "print(X_yob.head())"
   ]
  },
  {
   "cell_type": "code",
   "execution_count": 66,
   "metadata": {},
   "outputs": [],
   "source": [
    "zip_mean = X_yob['zipcode'].mean()\n",
    "X_yob.zipcode = X_yob['zipcode'].fillna(zip_mean)"
   ]
  },
  {
   "cell_type": "code",
   "execution_count": 67,
   "metadata": {},
   "outputs": [
    {
     "name": "stdout",
     "output_type": "stream",
     "text": [
      "    yob  domain  firstname  zipcode\n",
      "0  1985       0          0        0\n",
      "1  1961       1          1        1\n",
      "2  1977       2          2        2\n",
      "3    -1       3          3        0\n",
      "4    -1       4          4        1\n"
     ]
    }
   ],
   "source": [
    "for feature in X_yob.drop(['yob'], axis=1).columns:\n",
    "    X_yob[feature] = map_features(X_yob[feature])\n",
    "print(X_yob.head())"
   ]
  },
  {
   "cell_type": "code",
   "execution_count": 68,
   "metadata": {},
   "outputs": [
    {
     "name": "stdout",
     "output_type": "stream",
     "text": [
      "    yob  domain  firstname  zipcode\n",
      "0  1985       0          0        0\n",
      "1  1961       1          1        1\n",
      "2  1977       2          2        2\n",
      "3  1975       0          5        3\n",
      "4  1974       4          6        4\n"
     ]
    }
   ],
   "source": [
    "X = X_yob.copy()\n",
    "X_yob = cleaning_yob(X_yob, X_yob.columns)\n",
    "print(X_yob.head())"
   ]
  },
  {
   "cell_type": "code",
   "execution_count": 69,
   "metadata": {},
   "outputs": [],
   "source": [
    "Y_yob = X_yob['yob']\n",
    "X_yob = X_yob.drop(['yob'], axis=1)"
   ]
  },
  {
   "cell_type": "markdown",
   "metadata": {},
   "source": [
    "#### Model Training."
   ]
  },
  {
   "cell_type": "code",
   "execution_count": 70,
   "metadata": {},
   "outputs": [
    {
     "name": "stderr",
     "output_type": "stream",
     "text": [
      "/usr/local/lib/python2.7/site-packages/sklearn/ensemble/forest.py:724: UserWarning: Some inputs do not have OOB scores. This probably means too few trees were used to compute any reliable oob estimates.\n",
      "  warn(\"Some inputs do not have OOB scores. \"\n"
     ]
    },
    {
     "data": {
      "text/plain": [
       "RandomForestRegressor(bootstrap=True, criterion='mse', max_depth=None,\n",
       "           max_features='auto', max_leaf_nodes=None,\n",
       "           min_impurity_decrease=0.0, min_impurity_split=None,\n",
       "           min_samples_leaf=1, min_samples_split=2,\n",
       "           min_weight_fraction_leaf=0.0, n_estimators=10, n_jobs=-1,\n",
       "           oob_score=True, random_state=42, verbose=0, warm_start=False)"
      ]
     },
     "execution_count": 70,
     "metadata": {},
     "output_type": "execute_result"
    }
   ],
   "source": [
    "model = RandomForestRegressor(n_estimators=10, oob_score=True, n_jobs=-1, random_state=42)\n",
    "model.fit(X_yob, Y_yob)"
   ]
  },
  {
   "cell_type": "markdown",
   "metadata": {},
   "source": [
    "#### Features importance."
   ]
  },
  {
   "cell_type": "code",
   "execution_count": 71,
   "metadata": {},
   "outputs": [
    {
     "data": {
      "text/plain": [
       "<matplotlib.axes._subplots.AxesSubplot at 0x10d6dcbd0>"
      ]
     },
     "execution_count": 71,
     "metadata": {},
     "output_type": "execute_result"
    },
    {
     "data": {
      "image/png": "[encoded data removed]",
      "text/plain": [
       "<Figure size 432x288 with 1 Axes>"
      ]
     },
     "metadata": {},
     "output_type": "display_data"
    }
   ],
   "source": [
    "features_impt = pd.Series(model.feature_importances_, index=X_yob.columns)\n",
    "features_impt.plot(kind='bar')"
   ]
  },
  {
   "cell_type": "markdown",
   "metadata": {},
   "source": [
    "#### Prediction vs Original."
   ]
  },
  {
   "cell_type": "code",
   "execution_count": 72,
   "metadata": {},
   "outputs": [
    {
     "data": {
      "image/png": "[encoded data removed]",
      "text/plain": [
       "<Figure size 432x288 with 1 Axes>"
      ]
     },
     "metadata": {},
     "output_type": "display_data"
    }
   ],
   "source": [
    "pred = model.oob_prediction_\n",
    "Yob_prediction = []\n",
    "for i in pred:\n",
    "    Yob_prediction.append(int(round(i)))\n",
    "u, indices = np.unique(Yob_prediction, return_counts=True)\n",
    "plt.bar(u[1:], indices[1:], label='Prediction', width=1)\n",
    "u, indices = np.unique(data.yob, return_counts=True)\n",
    "plt.bar(u[1:], indices[1:], label='Original', width=1)\n",
    "plt.legend(bbox_to_anchor=(0., 1.02, 1., .102), loc=3,\n",
    "           ncol=2, mode=\"expand\", borderaxespad=0.)\n",
    "plt.xlabel('Years')\n",
    "plt.ylabel('Occurence')\n",
    "plt.show()"
   ]
  },
  {
   "cell_type": "markdown",
   "metadata": {},
   "source": [
    "#### Predict yob missing values, in full data set."
   ]
  },
  {
   "cell_type": "code",
   "execution_count": 73,
   "metadata": {},
   "outputs": [],
   "source": [
    "Yob = []\n",
    "data_set = X.values\n",
    "prediction = model.predict(X.drop(['yob'], axis=1).values)\n",
    "for i in range(len(data_set)):\n",
    "    if data_set[i][0] == -1:\n",
    "        Yob.append(int(round(prediction[i])))\n",
    "    else:\n",
    "        Yob.append(data_set[i][0])"
   ]
  },
  {
   "cell_type": "markdown",
   "metadata": {},
   "source": [
    "### Predict gender :"
   ]
  },
  {
   "cell_type": "markdown",
   "metadata": {},
   "source": [
    "#### Data cleaning."
   ]
  },
  {
   "cell_type": "code",
   "execution_count": 74,
   "metadata": {},
   "outputs": [
    {
     "name": "stdout",
     "output_type": "stream",
     "text": [
      "         domain        firstname  zipcode gender\n",
      "0   @wanadoo.fr  b08253b305fb5ec  94450.0      F\n",
      "1       @sfr.fr  7ff135854376850  78580.0      M\n",
      "2      @free.fr  172522ec1028ab7  62640.0    NaN\n",
      "3  @hotmail.com  d3ca5dde60f88db  94100.0      M\n",
      "4    @gmail.com  bdaae16837dd576  78100.0    NaN\n"
     ]
    }
   ],
   "source": [
    "X_gender = data.drop(['yob'], axis=1)\n",
    "print(X_gender.head())"
   ]
  },
  {
   "cell_type": "code",
   "execution_count": 75,
   "metadata": {},
   "outputs": [
    {
     "name": "stdout",
     "output_type": "stream",
     "text": [
      "         domain        firstname  zipcode gender\n",
      "0   @wanadoo.fr  b08253b305fb5ec     94.0      F\n",
      "1       @sfr.fr  7ff135854376850     78.0      M\n",
      "2      @free.fr  172522ec1028ab7     62.0    NaN\n",
      "3  @hotmail.com  d3ca5dde60f88db     94.0      M\n",
      "4    @gmail.com  bdaae16837dd576     78.0    NaN\n"
     ]
    }
   ],
   "source": [
    "_zip = []\n",
    "for i in X_gender.zipcode:\n",
    "    if np.isnan(i) == False and len(str(int(i))) > 2:\n",
    "        _zip.append(int(str(i)[:2]))\n",
    "    else:\n",
    "        _zip.append(np.nan)\n",
    "X_gender.zipcode = _zip\n",
    "print(X_gender.head())"
   ]
  },
  {
   "cell_type": "code",
   "execution_count": 76,
   "metadata": {},
   "outputs": [],
   "source": [
    "zip_mean = X_gender['zipcode'].mean()\n",
    "X_gender.zipcode = X_gender['zipcode'].fillna(zip_mean)"
   ]
  },
  {
   "cell_type": "code",
   "execution_count": 77,
   "metadata": {},
   "outputs": [
    {
     "name": "stdout",
     "output_type": "stream",
     "text": [
      "   domain  firstname  zipcode gender\n",
      "0       0          0        0      F\n",
      "1       1          1        1      M\n",
      "2       2          2        2    NaN\n",
      "3       3          3        0      M\n",
      "4       4          4        1    NaN\n"
     ]
    }
   ],
   "source": [
    "for feature in X_gender.drop(['gender'], axis=1).columns:\n",
    "    X_gender[feature] = map_features(X_gender[feature])\n",
    "print(X_gender.head())"
   ]
  },
  {
   "cell_type": "code",
   "execution_count": 78,
   "metadata": {},
   "outputs": [
    {
     "name": "stdout",
     "output_type": "stream",
     "text": [
      "   domain  firstname  zipcode gender\n",
      "0       0          0        0      F\n",
      "1       1          1        1      M\n",
      "2       3          3        0      M\n",
      "3       0          5        3      M\n",
      "4       4          6        4      M\n"
     ]
    }
   ],
   "source": [
    "X = X_gender.copy()\n",
    "X['gender'] = X['gender'].map({'F': 0, 'M': 1})\n",
    "X_gender = delete_nan_rows(X_gender, X_gender.columns)\n",
    "print(X_gender.head())"
   ]
  },
  {
   "cell_type": "code",
   "execution_count": 79,
   "metadata": {},
   "outputs": [
    {
     "name": "stdout",
     "output_type": "stream",
     "text": [
      "   domain  firstname  zipcode  gender\n",
      "0       0          0        0       0\n",
      "1       1          1        1       1\n",
      "2       3          3        0       1\n",
      "3       0          5        3       1\n",
      "4       4          6        4       1\n"
     ]
    }
   ],
   "source": [
    "X_gender['gender'] = X_gender['gender'].map({'F': 0, 'M': 1}).astype(int)\n",
    "print(X_gender.head())"
   ]
  },
  {
   "cell_type": "code",
   "execution_count": 80,
   "metadata": {},
   "outputs": [],
   "source": [
    "Y_gender = X_gender['gender']\n",
    "X_gender = X_gender.drop(['gender'], axis=1)"
   ]
  },
  {
   "cell_type": "markdown",
   "metadata": {},
   "source": [
    "#### Model training."
   ]
  },
  {
   "cell_type": "code",
   "execution_count": 81,
   "metadata": {},
   "outputs": [
    {
     "data": {
      "text/plain": [
       "RandomForestRegressor(bootstrap=True, criterion='mse', max_depth=None,\n",
       "           max_features='auto', max_leaf_nodes=None,\n",
       "           min_impurity_decrease=0.0, min_impurity_split=None,\n",
       "           min_samples_leaf=1, min_samples_split=2,\n",
       "           min_weight_fraction_leaf=0.0, n_estimators=10, n_jobs=-1,\n",
       "           oob_score=True, random_state=42, verbose=0, warm_start=False)"
      ]
     },
     "execution_count": 81,
     "metadata": {},
     "output_type": "execute_result"
    }
   ],
   "source": [
    "model = RandomForestRegressor(n_estimators=10, oob_score=True, n_jobs=-1, random_state=42)\n",
    "model.fit(X_gender, Y_gender)"
   ]
  },
  {
   "cell_type": "markdown",
   "metadata": {},
   "source": [
    "#### Features importance."
   ]
  },
  {
   "cell_type": "code",
   "execution_count": 82,
   "metadata": {},
   "outputs": [
    {
     "data": {
      "text/plain": [
       "<matplotlib.axes._subplots.AxesSubplot at 0x12f958990>"
      ]
     },
     "execution_count": 82,
     "metadata": {},
     "output_type": "execute_result"
    },
    {
     "data": {
      "image/png": "[encoded data removed]",
      "text/plain": [
       "<Figure size 432x288 with 1 Axes>"
      ]
     },
     "metadata": {},
     "output_type": "display_data"
    }
   ],
   "source": [
    "features_impt = pd.Series(model.feature_importances_, index=X_gender.columns)\n",
    "features_impt.plot(kind='bar')"
   ]
  },
  {
   "cell_type": "markdown",
   "metadata": {},
   "source": [
    "#### Accuracy."
   ]
  },
  {
   "cell_type": "code",
   "execution_count": 83,
   "metadata": {},
   "outputs": [
    {
     "name": "stdout",
     "output_type": "stream",
     "text": [
      "Accuracy : 91.4495%\n"
     ]
    }
   ],
   "source": [
    "pred = model.oob_prediction_\n",
    "gender_prediction = []\n",
    "for i in pred:\n",
    "    gender_prediction.append(int(round(i)))\n",
    "    \n",
    "correct = 0\n",
    "length = len(gender_prediction)\n",
    "correct = []\n",
    "for i in range(length):\n",
    "    if gender_prediction[i] == Y_gender.values[i]:\n",
    "        correct.append(1)\n",
    "    else:\n",
    "        correct.append(0)\n",
    "accuracy = (np.sum(correct) / float(length))*100\n",
    "print('Accuracy : {}%'.format(round(accuracy, 4)))"
   ]
  },
  {
   "cell_type": "markdown",
   "metadata": {},
   "source": [
    "#### Predict gender missing values, in full data set."
   ]
  },
  {
   "cell_type": "code",
   "execution_count": 84,
   "metadata": {},
   "outputs": [],
   "source": [
    "Gender = []\n",
    "data_set = X.values\n",
    "prediction = model.predict(X.drop(['gender'], axis=1).values)\n",
    "\n",
    "gender_prediction = []\n",
    "for i in prediction:\n",
    "    gender_prediction.append(int(round(i)))\n",
    "\n",
    "for i in range(len(data_set)):\n",
    "    if np.isnan(data_set[i][3]):\n",
    "        Gender.append(gender_prediction[i])\n",
    "    else:\n",
    "        Gender.append(data_set[i][3])"
   ]
  },
  {
   "cell_type": "markdown",
   "metadata": {},
   "source": [
    "#### Fit predictions to full data set."
   ]
  },
  {
   "cell_type": "code",
   "execution_count": 87,
   "metadata": {},
   "outputs": [
    {
     "name": "stdout",
     "output_type": "stream",
     "text": [
      "          yob             domain        firstname  zipcode gender\n",
      "0        1985        @wanadoo.fr  b08253b305fb5ec  94450.0      F\n",
      "1        1961            @sfr.fr  7ff135854376850  78580.0      M\n",
      "2        1977           @free.fr  172522ec1028ab7  62640.0      M\n",
      "3        1978       @hotmail.com  d3ca5dde60f88db  94100.0      M\n",
      "4        1986         @gmail.com  bdaae16837dd576  78100.0      M\n",
      "5        1975        @wanadoo.fr  57c2877c1d84c4b  92600.0      M\n",
      "6        1974         @gmail.com  d47de916cacd0b7  65200.0      M\n",
      "7        1957           @free.fr  7ff135854376850  83250.0      M\n",
      "8        1972           @live.fr  a5410ee37744c57   5100.0      M\n",
      "9        1967        @wanadoo.fr  60784186ea5b29f  68300.0      M\n",
      "10       1961         @gmail.com  aa47f8215c6f30a  67380.0      M\n",
      "11       1976          @yahoo.fr  66aad1c91c97f58  94250.0      M\n",
      "12       1980        @wanadoo.fr  d9fee41b5836f7e  33600.0      F\n",
      "13       1950           @free.fr  d780182f77b1214  24100.0      M\n",
      "14       1968         @yahoo.com  0d0de813c110549  75004.0      M\n",
      "15       1972       @hotmail.com  f7885ad36a637f4   6200.0      M\n",
      "16       1972           @free.fr  18c3abc1b9dba53  33400.0      F\n",
      "17       1965           @free.fr  2bb010060d682fe  31100.0      M\n",
      "18       1971         @orange.fr  6f31afdd1748f40  74350.0      M\n",
      "19       1975  @club-internet.fr  2a4ac4d8e4ebdf7  65200.0      F\n",
      "20       1976         @gmail.com  182b7817e82d6eb  38000.0      M\n",
      "21       1971           @aol.com  4d6c4d6b5b6c7fd  25000.0      F\n",
      "22       1977          @yahoo.fr  7c7b671e3799c8d  75011.0      M\n",
      "23       1984        @hotmail.fr  0e5091a25295e44  91220.0      M\n",
      "24       1972        @wanadoo.fr  b15ab3f829f0f89  91220.0      M\n",
      "25       1944    @libertysurf.fr  e409f05a10574ad  78490.0      M\n",
      "26       1971      @aliceadsl.fr  34a321664be49e3  92170.0      M\n",
      "27       1956         @gmail.com  f4f068e71e0d87b  87000.0      M\n",
      "28       1972         @gmail.com  57c2877c1d84c4b   6210.0      M\n",
      "29       1974          @yahoo.fr  60784186ea5b29f  34110.0      M\n",
      "...       ...                ...              ...      ...    ...\n",
      "1999970  1983          @yahoo.fr  ae8be4ace9037fb  30120.0      M\n",
      "1999971  1967         @gmail.com  169348fbfd1af14  45000.0      M\n",
      "1999972  1936         @orange.fr  353f9bfab2d01db  94320.0      M\n",
      "1999973  1968         @gmail.com  58e537189c53a9d   1190.0      M\n",
      "1999974  1971         @gmail.com  823fec7a2632ea7  77200.0      F\n",
      "1999975  1987        @outlook.fr  023632e1c4f055a   6150.0      F\n",
      "1999976  1974         @gmail.com  b08253b305fb5ec  59420.0      F\n",
      "1999977  1980         @gmail.com  0d9f25661cd6a2c  91310.0      M\n",
      "1999978  1951         @orange.fr  aa47f8215c6f30a  75013.0      F\n",
      "1999979  1952           @bbox.fr  eb2b0f82d5d1235  84300.0      M\n",
      "1999980  1964       @hotmail.com  0d0de813c110549  62240.0      M\n",
      "1999981  1957         @gmail.com  8a94bdfc825df46  74000.0      F\n",
      "1999982  1958         @gmail.com  b67ef00bdcc7f86  31700.0      F\n",
      "1999983  1991         @orange.fr  dee484ff7366319  92000.0      F\n",
      "1999984  1986         @gmail.com  11619bf6d82bf8f  94460.0      F\n",
      "1999985  1999         @gmail.com  083af24243207a8  59260.0      F\n",
      "1999986  1973           @free.fr  84675f2baf71400  13013.0      M\n",
      "1999987  1994        @hotmail.fr  b55050b2f605b7c  77550.0      F\n",
      "1999988  1993         @gmail.com  c3dae848d72c51c  59710.0      F\n",
      "1999989  1978            @sfr.fr  e409f05a10574ad  85200.0      M\n",
      "1999990  1959        @hotmail.fr  afe3bd960b4c46a  22100.0      F\n",
      "1999991  1998        @icloud.com  23f88ac14feead9  91350.0      F\n",
      "1999992  1979         @gmail.com  cb74c183402afe7  75011.0      F\n",
      "1999993  1994         @gmail.com  2e92d0ae281932f  80090.0      F\n",
      "1999994  1990         @orange.fr  56910c52ed70539  38100.0      M\n",
      "1999995  1994         @gmail.com  09f96867a8dc816  62400.0      F\n",
      "1999996  1997         @gmail.com  823fec7a2632ea7   7200.0      M\n",
      "1999997  1998         @gmail.com  029f0f59eba0903  21000.0      F\n",
      "1999998  1985       @hotmail.com  deb97a759ee7b8b  26240.0      M\n",
      "1999999  1971         @orange.fr  f11d689dda42279   6670.0      F\n",
      "\n",
      "[2000000 rows x 5 columns]\n"
     ]
    }
   ],
   "source": [
    "full_data = data.copy()\n",
    "full_data.yob = Yob\n",
    "full_data.gender = Gender\n",
    "full_data.gender = full_data.gender.map({0: 'F', 1: 'M'})\n",
    "print(full_data)"
   ]
  },
  {
   "cell_type": "markdown",
   "metadata": {},
   "source": [
    "#### Writing output to 'user_completed.csv'."
   ]
  },
  {
   "cell_type": "code",
   "execution_count": 88,
   "metadata": {},
   "outputs": [],
   "source": [
    "full_data.to_csv('user_completed.csv')"
   ]
  }
 ],
 "metadata": {
  "kernelspec": {
   "display_name": "Python 3",
   "language": "python",
   "name": "python3"
  },
  "language_info": {
   "codemirror_mode": {
    "name": "ipython",
    "version": 2
   },
   "file_extension": ".py",
   "mimetype": "text/x-python",
   "name": "python",
   "nbconvert_exporter": "python",
   "pygments_lexer": "ipython2",
   "version": "2.7.15"
  }
 },
 "nbformat": 4,
 "nbformat_minor": 2
}
